{
 "cells": [
  {
   "cell_type": "code",
   "execution_count": null,
   "id": "776d2a0d",
   "metadata": {},
   "outputs": [],
   "source": [
    "# Problem Statement\n",
    "'''use a Random Forest classifier to predict whether a person \n",
    "is likely to purchase a product based on certain features like \n",
    "age, gender, and estimated salary.'''"
   ]
  },
  {
   "cell_type": "code",
   "execution_count": 1,
   "id": "b896901d",
   "metadata": {},
   "outputs": [],
   "source": [
    "from sklearn.model_selection import train_test_split\n",
    "from sklearn.ensemble import RandomForestClassifier\n",
    "from sklearn.metrics import accuracy_score\n",
    "import pandas as pd\n",
    "from sklearn.preprocessing import LabelEncoder"
   ]
  },
  {
   "cell_type": "code",
   "execution_count": 2,
   "id": "f0304c25",
   "metadata": {},
   "outputs": [],
   "source": [
    "# step no 2\n",
    "data = {'Age': [25,35,45,20,30,50,40,55,60,35],\n",
    "        'Gender': ['M', 'F','M','M','F','F','M','F','M','F'],\n",
    "         'EstimatedSalary': [30000,40000,60000,20000,35000,80000,45000,90000,100000,50000],\n",
    "       'Purchased': [0,0,1,0,1,1,0,1,1,0]}"
   ]
  },
  {
   "cell_type": "code",
   "execution_count": 3,
   "id": "6c19879e",
   "metadata": {},
   "outputs": [
    {
     "name": "stdout",
     "output_type": "stream",
     "text": [
      "   Age Gender  EstimatedSalary  Purchased\n",
      "0   25      M            30000          0\n",
      "1   35      F            40000          0\n",
      "2   45      M            60000          1\n",
      "3   20      M            20000          0\n",
      "4   30      F            35000          1\n",
      "5   50      F            80000          1\n",
      "6   40      M            45000          0\n",
      "7   55      F            90000          1\n",
      "8   60      M           100000          1\n",
      "9   35      F            50000          0\n"
     ]
    }
   ],
   "source": [
    "df = pd.DataFrame(data)\n",
    "print(df)"
   ]
  },
  {
   "cell_type": "code",
   "execution_count": 4,
   "id": "de61f445",
   "metadata": {},
   "outputs": [],
   "source": [
    "label_encoder = LabelEncoder()\n",
    "df['Gender']= label_encoder.fit_transform(df['Gender'])"
   ]
  },
  {
   "cell_type": "code",
   "execution_count": 5,
   "id": "93604563",
   "metadata": {},
   "outputs": [],
   "source": [
    "X = df.drop('Purchased', axis=1)\n",
    "y = df['Purchased']"
   ]
  },
  {
   "cell_type": "code",
   "execution_count": 6,
   "id": "94ba8353",
   "metadata": {},
   "outputs": [],
   "source": [
    "X_train,X_test,y_train,y_test=train_test_split(X,y,test_size=0.2,random_state=42)"
   ]
  },
  {
   "cell_type": "code",
   "execution_count": 8,
   "id": "683933ae",
   "metadata": {},
   "outputs": [
    {
     "name": "stdout",
     "output_type": "stream",
     "text": [
      "accuracy of random forest: 0.5\n"
     ]
    }
   ],
   "source": [
    "y_pred = rf_classifier.predict(X_test)\n",
    "accuracy = accuracy_score(y_test,y_pred)\n",
    "print(f\"accuracy of random forest: {accuracy}\")"
   ]
  },
  {
   "cell_type": "code",
   "execution_count": 9,
   "id": "c21a6654",
   "metadata": {},
   "outputs": [
    {
     "name": "stdout",
     "output_type": "stream",
     "text": [
      "Enter your age: 30\n",
      "Enter your gender M/F: M\n",
      "Enter your salary: 80000\n",
      "This person is likely to purchase the product.\n"
     ]
    },
    {
     "name": "stderr",
     "output_type": "stream",
     "text": [
      "C:\\Users\\DELL\\anaconda3\\lib\\site-packages\\sklearn\\base.py:464: UserWarning: X does not have valid feature names, but RandomForestClassifier was fitted with feature names\n",
      "  warnings.warn(\n"
     ]
    }
   ],
   "source": [
    "# user input\n",
    "user_age = int(input(\"Enter your age: \"))\n",
    "user_gender = input(\"Enter your gender M/F: \")\n",
    "user_salary = int(input(\"Enter your salary: \"))\n",
    "\n",
    "user_gender_encoded = label_encoder.transform([user_gender])[0]\n",
    "user_data = [[user_age,user_gender_encoded, user_salary]]\n",
    "\n",
    "prediction = rf_classifier.predict(user_data)\n",
    "if prediction[0]==1:\n",
    "    print(\"This person is likely to purchase the product.\")\n",
    "else:\n",
    "    print(\"This person is not likely to purchase the product.\")"
   ]
  },
  {
   "cell_type": "code",
   "execution_count": null,
   "id": "e31e51c4",
   "metadata": {},
   "outputs": [],
   "source": []
  }
 ],
 "metadata": {
  "celltoolbar": "Raw Cell Format",
  "kernelspec": {
   "display_name": "Python 3 (ipykernel)",
   "language": "python",
   "name": "python3"
  },
  "language_info": {
   "codemirror_mode": {
    "name": "ipython",
    "version": 3
   },
   "file_extension": ".py",
   "mimetype": "text/x-python",
   "name": "python",
   "nbconvert_exporter": "python",
   "pygments_lexer": "ipython3",
   "version": "3.12.5"
  }
 },
 "nbformat": 4,
 "nbformat_minor": 5
}
