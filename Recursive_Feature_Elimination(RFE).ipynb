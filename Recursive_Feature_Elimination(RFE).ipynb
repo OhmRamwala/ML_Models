{
 "cells": [
  {
   "cell_type": "code",
   "execution_count": null,
   "id": "776d2a0d",
   "metadata": {},
   "outputs": [],
   "source": [
    "# Business Problem Statement:\n",
    "'''Company XYZ wants to improve its employee performance prediction system.\n",
    "They have collected data on several features such as education level, \n",
    "years of experience, training hours, and so on. The goal is to build\n",
    "a machine learning model that can accurately predict employee performance.\n",
    "The company believes that not all features are equally important, \n",
    "and they want to use Recursive Feature Elimination (RFE) to identify\n",
    "the most relevant features for the prediction model. Once the relevant\n",
    "features are identified, a model should be trained and tested.\n",
    "'''\n",
    "# using Recursive Feature Elimination (RFE) "
   ]
  },
  {
   "cell_type": "code",
   "execution_count": 3,
   "id": "b896901d",
   "metadata": {},
   "outputs": [],
   "source": [
    "import numpy as np\n",
    "import pandas as pd\n",
    "from sklearn.model_selection import train_test_split\n",
    "from sklearn.ensemble import RandomForestRegressor\n",
    "from sklearn.feature_selection import RFE\n",
    "from sklearn.metrics import mean_squared_error\n",
    "from sklearn.model_selection import cross_val_score\n",
    "from sklearn.linear_model import LinearRegression\n",
    "from sklearn.preprocessing import StandardScaler"
   ]
  },
  {
   "cell_type": "code",
   "execution_count": 6,
   "id": "f0304c25",
   "metadata": {},
   "outputs": [
    {
     "name": "stdout",
     "output_type": "stream",
     "text": [
      "     education_level  years_of_experience  training_hours  \\\n",
      "0                  3            14.265073       56.717361   \n",
      "1                  4            11.185831       53.126369   \n",
      "2                  1             6.881025       12.307786   \n",
      "3                  3            16.462105       40.712304   \n",
      "4                  3            14.009892       44.217606   \n",
      "..               ...                  ...             ...   \n",
      "995                1            13.696043       54.309293   \n",
      "996                1            12.770317       61.955113   \n",
      "997                4             9.806387       87.901943   \n",
      "998                4             8.215930       98.266541   \n",
      "999                3            17.403339       46.682579   \n",
      "\n",
      "     communication_skills  problem_solving_skills  performance  \n",
      "0                       3                       3    64.325977  \n",
      "1                       3                       1    90.132016  \n",
      "2                       3                       1    99.861895  \n",
      "3                       3                       4    51.501300  \n",
      "4                       4                       3    94.868293  \n",
      "..                    ...                     ...          ...  \n",
      "995                     4                       4    80.505396  \n",
      "996                     3                       4    74.408884  \n",
      "997                     2                       3    56.659106  \n",
      "998                     4                       1    63.066651  \n",
      "999                     2                       3    70.954974  \n",
      "\n",
      "[1000 rows x 6 columns]\n"
     ]
    }
   ],
   "source": [
    "# datasets\n",
    "np.random.seed(42)\n",
    "data_size = 1000\n",
    "features = {'education_level': np.random.randint(1,5,data_size),\n",
    "            'years_of_experience': np.random.uniform(1,20,data_size),\n",
    "           'training_hours': np.random.uniform(10,100,data_size),\n",
    "           'communication_skills': np.random.randint(1,5,data_size),\n",
    "           'problem_solving_skills': np.random.randint(1,5,data_size),\n",
    "           'performance': np.random.uniform(50,100,data_size)}\n",
    "df = pd.DataFrame(features)\n",
    "print(df)"
   ]
  },
  {
   "cell_type": "code",
   "execution_count": 7,
   "id": "6c19879e",
   "metadata": {},
   "outputs": [],
   "source": [
    "X = df.drop('performance', axis=1)\n",
    "y = df['performance']"
   ]
  },
  {
   "cell_type": "code",
   "execution_count": 8,
   "id": "de61f445",
   "metadata": {},
   "outputs": [],
   "source": [
    "X_train,X_test,y_train,y_test = train_test_split(X,y,test_size=0.2,random_state=42)"
   ]
  },
  {
   "cell_type": "code",
   "execution_count": 9,
   "id": "93604563",
   "metadata": {},
   "outputs": [],
   "source": [
    "model = LinearRegression()\n",
    "selector = RFE(model,n_features_to_select=3)\n",
    "selector = selector.fit(X_train,y_train)"
   ]
  },
  {
   "cell_type": "code",
   "execution_count": 10,
   "id": "94ba8353",
   "metadata": {},
   "outputs": [
    {
     "name": "stdout",
     "output_type": "stream",
     "text": [
      "Selected Features: Index(['education_level', 'communication_skills', 'problem_solving_skills'], dtype='object')\n"
     ]
    }
   ],
   "source": [
    "selected_features = X.columns[selector.support_]\n",
    "print(\"Selected Features:\",selected_features)"
   ]
  },
  {
   "cell_type": "code",
   "execution_count": 12,
   "id": "683933ae",
   "metadata": {},
   "outputs": [
    {
     "name": "stdout",
     "output_type": "stream",
     "text": [
      "mean Squared Error: 213.13058526024716\n"
     ]
    }
   ],
   "source": [
    "y_pred = model.predict(X_test_selected)\n",
    "mse = mean_squared_error(y_test,y_pred)\n",
    "print(\"mean Squared Error:\", mse)"
   ]
  },
  {
   "cell_type": "code",
   "execution_count": 13,
   "id": "c21a6654",
   "metadata": {},
   "outputs": [
    {
     "name": "stdout",
     "output_type": "stream",
     "text": [
      "enter employee information for prediction:\n",
      "education level(1-4):2\n",
      "years of experience:10\n",
      "training hours:50\n",
      "communication skills(1-4):3\n",
      "problem solving skills(1-4):4\n",
      "Predicted performance is: 68.87959964265852\n"
     ]
    },
    {
     "name": "stderr",
     "output_type": "stream",
     "text": [
      "C:\\Users\\DELL\\anaconda3\\lib\\site-packages\\sklearn\\base.py:464: UserWarning: X does not have valid feature names, but RFE was fitted with feature names\n",
      "  warnings.warn(\n"
     ]
    }
   ],
   "source": [
    "# user input\n",
    "print(\"enter employee information for prediction:\")\n",
    "education_level = float(input(\"education level(1-4):\"))\n",
    "years_of_experience = float(input(\"years of experience:\"))\n",
    "training_hours = float(input(\"training hours:\"))\n",
    "communication_skills = float(input(\"communication skills(1-4):\"))\n",
    "problem_solving_skills = float(input(\"problem solving skills(1-4):\"))\n",
    "\n",
    "input_data = np.array([[education_level,years_of_experience,training_hours,communication_skills,problem_solving_skills]])\n",
    "input_data_selected = selector.transform(input_data)\n",
    "prediction = model.predict(input_data_selected)\n",
    "print(\"Predicted performance is:\", prediction[0])"
   ]
  },
  {
   "cell_type": "code",
   "execution_count": null,
   "id": "e31e51c4",
   "metadata": {},
   "outputs": [],
   "source": []
  },
  {
   "cell_type": "code",
   "execution_count": null,
   "id": "d1fe13d1",
   "metadata": {},
   "outputs": [],
   "source": []
  },
  {
   "cell_type": "code",
   "execution_count": null,
   "id": "e184ce20",
   "metadata": {},
   "outputs": [],
   "source": []
  }
 ],
 "metadata": {
  "celltoolbar": "Raw Cell Format",
  "kernelspec": {
   "display_name": "Python 3 (ipykernel)",
   "language": "python",
   "name": "python3"
  },
  "language_info": {
   "codemirror_mode": {
    "name": "ipython",
    "version": 3
   },
   "file_extension": ".py",
   "mimetype": "text/x-python",
   "name": "python",
   "nbconvert_exporter": "python",
   "pygments_lexer": "ipython3",
   "version": "3.12.5"
  }
 },
 "nbformat": 4,
 "nbformat_minor": 5
}
