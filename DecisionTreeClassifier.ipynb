{
 "cells": [
  {
   "cell_type": "code",
   "execution_count": null,
   "id": "776d2a0d",
   "metadata": {},
   "outputs": [],
   "source": [
    "# Problem Statement\n",
    "'''You have been tasked with creating a decision tree model to \n",
    "predict whether a person is likely to purchase a new smartphone based \n",
    "on their age, income, and education level. You are provided with a dataset\n",
    "containing these attributes and the target variable indicating whether \n",
    "the person made a purchase or not.'''"
   ]
  },
  {
   "cell_type": "code",
   "execution_count": 1,
   "id": "b896901d",
   "metadata": {},
   "outputs": [],
   "source": [
    "import numpy as np\n",
    "from sklearn.tree import DecisionTreeClassifier\n",
    "from sklearn.model_selection import train_test_split\n",
    "from sklearn.metrics import accuracy_score"
   ]
  },
  {
   "cell_type": "code",
   "execution_count": 2,
   "id": "f0304c25",
   "metadata": {},
   "outputs": [],
   "source": [
    "# step no 2\n",
    "X = np.array([[25, 50000, 3], [35, 90000,2], [40,60000,5],[45,80000,3],[20,30000,2],\n",
    "             [55,120000,4],[28,40000,1], [32,100000,3],[38,75000,2]])\n",
    "y = np.array([0,1,1,0,1,0,1,0,1])"
   ]
  },
  {
   "cell_type": "code",
   "execution_count": 3,
   "id": "6c19879e",
   "metadata": {},
   "outputs": [],
   "source": [
    "X_train,X_test,y_train,y_test = train_test_split(X,y,test_size=0.2, random_state=42)"
   ]
  },
  {
   "cell_type": "code",
   "execution_count": 4,
   "id": "de61f445",
   "metadata": {},
   "outputs": [],
   "source": [
    "model = DecisionTreeClassifier()"
   ]
  },
  {
   "cell_type": "code",
   "execution_count": 6,
   "id": "94ba8353",
   "metadata": {},
   "outputs": [],
   "source": [
    "y_pred = model.predict(X_test)"
   ]
  },
  {
   "cell_type": "code",
   "execution_count": 7,
   "id": "ac5d200f",
   "metadata": {},
   "outputs": [
    {
     "name": "stdout",
     "output_type": "stream",
     "text": [
      "1.0\n"
     ]
    }
   ],
   "source": [
    "accuracy = accuracy_score(y_test, y_pred)\n",
    "print(accuracy)"
   ]
  },
  {
   "cell_type": "code",
   "execution_count": 8,
   "id": "683933ae",
   "metadata": {},
   "outputs": [
    {
     "name": "stdout",
     "output_type": "stream",
     "text": [
      "Enter age: 40\n",
      "Enter Income: 80000\n",
      "Enter Education Level: 3\n",
      "The user is Unlikely to purchase a smartphone\n"
     ]
    }
   ],
   "source": [
    "# user input\n",
    "age = float(input(\"Enter age: \"))\n",
    "income = float(input(\"Enter Income: \"))\n",
    "education = float(input(\"Enter Education Level: \"))\n",
    "user_input = np.array([[age, income, education]])\n",
    "prediction = model.predict(user_input)\n",
    "if prediction[0] == 1:\n",
    "    print(\"The user is likely to purchase a smartphone\")\n",
    "else:\n",
    "    print(\"The user is Unlikely to purchase a smartphone\")"
   ]
  },
  {
   "cell_type": "code",
   "execution_count": null,
   "id": "c21a6654",
   "metadata": {},
   "outputs": [],
   "source": []
  },
  {
   "cell_type": "code",
   "execution_count": null,
   "id": "2986adb2",
   "metadata": {},
   "outputs": [],
   "source": []
  }
 ],
 "metadata": {
  "celltoolbar": "Raw Cell Format",
  "kernelspec": {
   "display_name": "Python 3 (ipykernel)",
   "language": "python",
   "name": "python3"
  },
  "language_info": {
   "codemirror_mode": {
    "name": "ipython",
    "version": 3
   },
   "file_extension": ".py",
   "mimetype": "text/x-python",
   "name": "python",
   "nbconvert_exporter": "python",
   "pygments_lexer": "ipython3",
   "version": "3.12.5"
  }
 },
 "nbformat": 4,
 "nbformat_minor": 5
}
