{
 "cells": [
  {
   "cell_type": "code",
   "execution_count": null,
   "id": "776d2a0d",
   "metadata": {},
   "outputs": [],
   "source": [
    "# Problem Statement\n",
    "'''A company is looking to develop a text classification model to \n",
    "categorize customer reviews into positive or negative sentiments. \n",
    "They want to use Naive Bayes classification to automatically analyze\n",
    "and classify the reviews they receive, aiming to understand customer \n",
    "satisfaction levels and sentiments. The company desires a model \n",
    "that can accurately predict whether a customer review expresses \n",
    "a positive or negative sentiment.'''"
   ]
  },
  {
   "cell_type": "code",
   "execution_count": null,
   "id": "b896901d",
   "metadata": {},
   "outputs": [],
   "source": [
    "import numpy as np\n",
    "from sklearn.feature_extraction.text import CountVectorizer\n",
    "from sklearn.naive_bayes import MultinomialNB"
   ]
  },
  {
   "cell_type": "code",
   "execution_count": null,
   "id": "f0304c25",
   "metadata": {},
   "outputs": [],
   "source": [
    "# step no 2\n",
    "reviews =[\"The product is excellent and works perfectly\",\n",
    "          \"the product is not good, very disappointing\",\n",
    "          \"terrible product and waste of money\",\n",
    "          \"i love this product and it is amazing\"]\n",
    "sentiments = np.array([1,0,0,1])"
   ]
  },
  {
   "cell_type": "code",
   "execution_count": 8,
   "id": "6c19879e",
   "metadata": {},
   "outputs": [],
   "source": [
    "# step no 3\n",
    "vectorizer = CountVectorizer()\n",
    "X = vectorizer.fit_transform(reviews)"
   ]
  },
  {
   "cell_type": "code",
   "execution_count": 13,
   "id": "93604563",
   "metadata": {},
   "outputs": [],
   "source": [
    "#step no 5\n",
    "def classifiy_new_review(review):\n",
    "    review_vectorized = vectorizer.transform([review])\n",
    "    prediction = classifier.predict(review_vectorized)\n",
    "    if prediction[0] == 1:\n",
    "        return \"Positive Sentiment\"\n",
    "    else:\n",
    "        return \"Negative Sentiment\""
   ]
  },
  {
   "cell_type": "code",
   "execution_count": 18,
   "id": "94ba8353",
   "metadata": {},
   "outputs": [
    {
     "name": "stdout",
     "output_type": "stream",
     "text": [
      "Enter your review: this is good product\n",
      "The review 'this is good product' is classified as 'Positive Sentiment'\n"
     ]
    }
   ],
   "source": [
    "# step no 6 - user input\n",
    "user_review = input(\"Enter your review: \")\n",
    "result = classifiy_new_review(user_review)\n",
    "print(f\"The review '{user_review}' is classified as '{result}'\")"
   ]
  },
  {
   "cell_type": "code",
   "execution_count": null,
   "id": "ac5d200f",
   "metadata": {},
   "outputs": [],
   "source": []
  },
  {
   "cell_type": "code",
   "execution_count": null,
   "id": "683933ae",
   "metadata": {},
   "outputs": [],
   "source": []
  },
  {
   "cell_type": "code",
   "execution_count": null,
   "id": "c21a6654",
   "metadata": {},
   "outputs": [],
   "source": []
  },
  {
   "cell_type": "code",
   "execution_count": null,
   "id": "2986adb2",
   "metadata": {},
   "outputs": [],
   "source": []
  }
 ],
 "metadata": {
  "celltoolbar": "Raw Cell Format",
  "kernelspec": {
   "display_name": "Python 3 (ipykernel)",
   "language": "python",
   "name": "python3"
  },
  "language_info": {
   "codemirror_mode": {
    "name": "ipython",
    "version": 3
   },
   "file_extension": ".py",
   "mimetype": "text/x-python",
   "name": "python",
   "nbconvert_exporter": "python",
   "pygments_lexer": "ipython3",
   "version": "3.12.5"
  }
 },
 "nbformat": 4,
 "nbformat_minor": 5
}
